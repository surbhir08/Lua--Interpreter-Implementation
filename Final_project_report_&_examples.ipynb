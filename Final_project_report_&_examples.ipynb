{
 "cells": [
  {
   "cell_type": "markdown",
   "metadata": {},
   "source": [
    "# CSC402 - Final Project Report\n",
    "\n",
    "Surbhi Rathore & Sofia Rossi\n",
    "December 20, 2020\n",
    "\n",
    "# Introduction:\n",
    "\n",
    "The language that we decided to implement was the Lua language, which is a lightweight and efficient scripting language. It supports procedural programming, object-oriented programming, functional programming, data-driven programming, and data description and was originally built off of C. However, the purpose of Lua is not to mimic C, but instead to make up for the weaknesses that C has. As a result, it tends to stay away from dealing with hardware too much, isn't full of redundancies like C tends to be, and is very simple to test and debug, unlike C.\n",
    "\n",
    "# Implementation:\n",
    "\n",
    "The overall goal in the implementation of our language was to build an interpreter that would run Lua commands/programs, designed in Python. The programs can be directly entered into a Jupyter notebook/cell, or read from a file in the same directory as the notebook. Since Lua programs don't define variable types, the key to our interpreter is that it needs to be able to interpret the variable type without being directly told it in the command. Overall architecture of Lua interpreter is dependent on utility files mentioned below:\n",
    "1. Lexer : We did lexer implementation with an understanding of Five common lexeme categories\n",
    "Identifier. A name a program gives to some entity: variable, function, type, namespace,\n",
    "\n",
    "Keyword. An identifier-like lexeme that has special meaning within a PL.\n",
    "\n",
    "Operator. A word that gives an alternate method for making something like a function call. \n",
    "\n",
    "Literal. A bare value in code. Lua examples: 34.2 (number) \"abc\" (string) \n",
    "[=[abc]=] (string)\n",
    "\n",
    "Reserved keywords and tokens. \n",
    "\n",
    "2. Parser and Grammar frontend : We implemented the rules of Lua Grammar and the parser that takes the next lexeme functionality to generate an Abstract Syntax Tree (AST). It's a way to represent the program in a form easy for the interpreter to look at.\n",
    "\n",
    "3. We also used utility file, symtab as taught in class for handling the variables and their respective values for function declarations and function calls.\n",
    "\n",
    "4. Lua Interpreter : And then we implemented the interpreter using lexer and parser along with incorporating rules for loop structures and functions of Lua in python.\n",
    "\n",
    "5. Testing : We tested the interpreter using programs of Lua and it works appropriately.\n",
    "\n",
    "# Challenges:\n",
    "\n",
    "Learning a new language from scratch was pretty challenging but it turned out to be interesting and helped in understanding the programming language implementation concept in a broader way. Mapping the syntax and sematics of Lua language in python was another challenge in this project, for example the loop body in python are implemented using blocks where as in Lua, loop body has do/then as start keyword and ends with an end keyword. \n",
    "The reserved keyword dictionary in lua is slightly diffrent from the ones we use in python but it was pretty easy to use and implement. It did throw us an opportunity to explore and implement the concepts we learnt in programming language implementation class sessions. If I get a chance to do it over I would try making it more efficient in terms of function implementation and loops structures and a lot more cleaner. \n"
   ]
  },
  {
   "cell_type": "markdown",
   "metadata": {},
   "source": [
    "#Examples"
   ]
  },
  {
   "cell_type": "code",
   "execution_count": 17,
   "metadata": {},
   "outputs": [],
   "source": [
    "from Lua_interp_run_new import interp"
   ]
  },
  {
   "cell_type": "code",
   "execution_count": null,
   "metadata": {},
   "outputs": [],
   "source": [
    "#Example 1: factorial calculation using factorial\n",
    "\n",
    "function factorial(n)\n",
    "    fact = 1\n",
    "    for i = 1, n \n",
    "        do\n",
    "        fact = fact * i\n",
    "        i = i+1\n",
    "        end \n",
    "    return fact \n",
    "end\n",
    "\n",
    "n = 10\n",
    "factorial(10)   #function call\n"
   ]
  },
  {
   "cell_type": "code",
   "execution_count": 16,
   "metadata": {},
   "outputs": [
    {
     "name": "stdout",
     "output_type": "stream",
     "text": [
      "> 3628800\n"
     ]
    }
   ],
   "source": [
    "input_stream= \\\n",
    "'''\n",
    "function factorial(n)\n",
    "fact = 1\n",
    "for i = 1, n \n",
    "do\n",
    "fact = fact * i\n",
    "i = i+1\n",
    "end \n",
    "return fact \n",
    "end\n",
    "\n",
    "n = 10\n",
    "factorial(10) \n",
    "'''\n",
    "interp(input_stream)"
   ]
  },
  {
   "cell_type": "code",
   "execution_count": null,
   "metadata": {},
   "outputs": [],
   "source": [
    "#Example 2: Function implementation\n",
    "\n",
    "function x_value(n)\n",
    "    x = 2\n",
    "    z = n / x\n",
    "    print(z)\n",
    "end\n",
    "a = 4\n",
    "x_value(a)"
   ]
  },
  {
   "cell_type": "code",
   "execution_count": 18,
   "metadata": {},
   "outputs": [
    {
     "name": "stdout",
     "output_type": "stream",
     "text": [
      "> 2\n"
     ]
    }
   ],
   "source": [
    "input_stream= \\\n",
    "'''\n",
    "function x_value(n)\n",
    "    x = 2\n",
    "    z = n / x\n",
    "    print(z)\n",
    "end\n",
    "a = 4\n",
    "x_value(a)\n",
    "'''\n",
    "interp(input_stream)"
   ]
  },
  {
   "cell_type": "code",
   "execution_count": null,
   "metadata": {},
   "outputs": [],
   "source": [
    "#Example 3: For loop and binary operation\n",
    "if (12 < 11) then \n",
    "return 11 \n",
    "else \n",
    "return 12 \n",
    "end"
   ]
  },
  {
   "cell_type": "code",
   "execution_count": 19,
   "metadata": {},
   "outputs": [
    {
     "name": "stdout",
     "output_type": "stream",
     "text": [
      "> 12\n"
     ]
    }
   ],
   "source": [
    "input_stream= \\\n",
    "'''\n",
    "if (12 < 11) then \n",
    "return 11 \n",
    "else \n",
    "return 12 \n",
    "end\n",
    "'''\n",
    "interp(input_stream)"
   ]
  },
  {
   "cell_type": "code",
   "execution_count": null,
   "metadata": {},
   "outputs": [],
   "source": [
    "# Example 4: While loop implementation\n",
    "a = 1\n",
    "while (a <= 5) \n",
    "do\n",
    " print (a)\n",
    " a = a+1\n",
    " end"
   ]
  },
  {
   "cell_type": "code",
   "execution_count": 20,
   "metadata": {},
   "outputs": [
    {
     "name": "stdout",
     "output_type": "stream",
     "text": [
      "> 1\n",
      "> 2\n",
      "> 3\n",
      "> 4\n",
      "> 5\n"
     ]
    }
   ],
   "source": [
    "input_stream= \\\n",
    "'''\n",
    "a = 1\n",
    "while (a <= 5) \n",
    "do\n",
    " print (a)\n",
    " a = a+1\n",
    " end\n",
    "'''\n",
    "interp(input_stream)"
   ]
  },
  {
   "cell_type": "code",
   "execution_count": null,
   "metadata": {},
   "outputs": [],
   "source": [
    "#Example 5: \n",
    "x = 5\n",
    "y = 1\n",
    "\n",
    "while (1 <= x) \n",
    "do\n",
    "      y = (y * x);\n",
    "      x = (x - 1);\n",
    "end \n",
    "print (y)"
   ]
  },
  {
   "cell_type": "code",
   "execution_count": 21,
   "metadata": {},
   "outputs": [
    {
     "name": "stdout",
     "output_type": "stream",
     "text": [
      "> 120\n"
     ]
    }
   ],
   "source": [
    "input_stream= \\\n",
    "'''\n",
    "x = 5\n",
    "y = 1\n",
    "\n",
    "while (1 <= x) \n",
    "do\n",
    "      y =  y * x\n",
    "      x =  x - 1\n",
    "end \n",
    "print (y)\n",
    "'''\n",
    "interp(input_stream)"
   ]
  },
  {
   "cell_type": "code",
   "execution_count": null,
   "metadata": {},
   "outputs": [],
   "source": [
    "# Example 6 :\n",
    "for i=0,10 do \n",
    "print(i) \n",
    "end\n"
   ]
  },
  {
   "cell_type": "code",
   "execution_count": 22,
   "metadata": {},
   "outputs": [
    {
     "name": "stdout",
     "output_type": "stream",
     "text": [
      "> 1\n",
      "> 2\n",
      "> 3\n",
      "> 4\n",
      "> 5\n",
      "> 6\n",
      "> 7\n",
      "> 8\n",
      "> 9\n",
      "> 10\n"
     ]
    }
   ],
   "source": [
    "input_stream= \\\n",
    "'''\n",
    "for i=0,10 do\n",
    "i=i+1\n",
    "print(i) \n",
    "end\n",
    "'''\n",
    "interp(input_stream)"
   ]
  },
  {
   "cell_type": "markdown",
   "metadata": {},
   "source": [
    "# Conclusion : \n",
    "\n",
    "This project implements an interpreter for Lua language. It's a dynamic language and easy to learn. Implementation was a little tricky but it gave an opportunity to lean Lua.  "
   ]
  }
 ],
 "metadata": {
  "kernelspec": {
   "display_name": "Python 3",
   "language": "python",
   "name": "python3"
  },
  "language_info": {
   "codemirror_mode": {
    "name": "ipython",
    "version": 3
   },
   "file_extension": ".py",
   "mimetype": "text/x-python",
   "name": "python",
   "nbconvert_exporter": "python",
   "pygments_lexer": "ipython3",
   "version": "3.8.3"
  }
 },
 "nbformat": 4,
 "nbformat_minor": 4
}
